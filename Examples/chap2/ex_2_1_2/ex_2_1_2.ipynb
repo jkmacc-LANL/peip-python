{
 "cells": [
  {
   "cell_type": "markdown",
   "metadata": {},
   "source": [
    "# Examples 2.1 and 2.2 \n",
    "From Parameter Estimation and Inverse Problems, 3rd edition, 2018  \n",
    "by R. Aster, B. Borchers, C. Thurber  \n",
    "ported to Python by J. MacCarthy"
   ]
  },
  {
   "cell_type": "code",
   "execution_count": null,
   "metadata": {
    "collapsed": true
   },
   "outputs": [],
   "source": [
    "%reset -f"
   ]
  },
  {
   "cell_type": "code",
   "execution_count": 19,
   "metadata": {
    "collapsed": true
   },
   "outputs": [],
   "source": [
    "import numpy as np\n",
    "from scipy.io import loadmat\n",
    "import matplotlib.pyplot as plt\n",
    "\n",
    "# show the figures in the Jupyter notebook\n",
    "%matplotlib inline"
   ]
  },
  {
   "cell_type": "markdown",
   "metadata": {},
   "source": [
    "Make sure we have a clean environment."
   ]
  },
  {
   "cell_type": "code",
   "execution_count": 20,
   "metadata": {
    "collapsed": false,
    "scrolled": false
   },
   "outputs": [],
   "source": [
    "np.random.seed(0)"
   ]
  },
  {
   "cell_type": "markdown",
   "metadata": {},
   "source": [
    "Load precomputed data."
   ]
  },
  {
   "cell_type": "code",
   "execution_count": null,
   "metadata": {
    "collapsed": true
   },
   "outputs": [],
   "source": [
    "matdata = loadmat('data1.mat', squeeze_me=True)"
   ]
  },
  {
   "cell_type": "code",
   "execution_count": 30,
   "metadata": {
    "collapsed": false
   },
   "outputs": [],
   "source": [
    "t, y, sigma = matdata['data1'].T\n",
    "N = len(t)"
   ]
  },
  {
   "cell_type": "markdown",
   "metadata": {},
   "source": [
    "Display t, y, sigma."
   ]
  },
  {
   "cell_type": "code",
   "execution_count": 117,
   "metadata": {
    "collapsed": false
   },
   "outputs": [
    {
     "data": {
      "text/plain": [
       "(array([  1.,   2.,   3.,   4.,   5.,   6.,   7.,   8.,   9.,  10.]),\n",
       " array([ 109.3827,  187.5385,  267.5319,  331.8753,  386.0535,  428.4271,\n",
       "         452.1644,  498.1461,  512.3499,  512.9753]),\n",
       " array([ 8.,  8.,  8.,  8.,  8.,  8.,  8.,  8.,  8.,  8.]))"
      ]
     },
     "execution_count": 117,
     "metadata": {},
     "output_type": "execute_result"
    }
   ],
   "source": [
    "t, y, sigma"
   ]
  },
  {
   "cell_type": "markdown",
   "metadata": {},
   "source": [
    "Build the parabolic system matrix."
   ]
  },
  {
   "cell_type": "code",
   "execution_count": 86,
   "metadata": {
    "collapsed": true
   },
   "outputs": [],
   "source": [
    "G = np.array([np.ones_like(t), t, -0.5 * t**2]).T"
   ]
  },
  {
   "cell_type": "markdown",
   "metadata": {},
   "source": [
    "Apply the weighting.  \n",
    "*Note*: in the second operation, `sigma` is [broadcast](https://docs.scipy.org/doc/numpy/user/basics.broadcasting.html) to match the dimensions of `G`."
   ]
  },
  {
   "cell_type": "code",
   "execution_count": 87,
   "metadata": {
    "collapsed": false
   },
   "outputs": [],
   "source": [
    "yw = y / sigma\n",
    "Gw = G / sigma[:, np.newaxis]"
   ]
  },
  {
   "cell_type": "markdown",
   "metadata": {},
   "source": [
    "Solve for the least-squares solution."
   ]
  },
  {
   "cell_type": "code",
   "execution_count": 114,
   "metadata": {
    "collapsed": false
   },
   "outputs": [],
   "source": [
    "m = np.linalg.inv(Gw.T @ Gw) @ (Gw.T @ yw)"
   ]
  },
  {
   "cell_type": "markdown",
   "metadata": {},
   "source": [
    "Get the covariance matrix"
   ]
  },
  {
   "cell_type": "code",
   "execution_count": 111,
   "metadata": {
    "collapsed": false
   },
   "outputs": [
    {
     "name": "stdout",
     "output_type": "stream",
     "text": [
      "[[ 88.53333333 -33.6         -5.33333333]\n",
      " [-33.6         15.44242424   2.66666667]\n",
      " [ -5.33333333   2.66666667   0.48484848]]\n"
     ]
    }
   ],
   "source": [
    "ginv = np.linalg.inv(Gw.T @ Gw) @ Gw.T\n",
    "covm = ginv @ ginv.T\n",
    "print(covm)"
   ]
  },
  {
   "cell_type": "markdown",
   "metadata": {},
   "source": [
    "Get the 1.96-sigma (95%) conf intervals."
   ]
  },
  {
   "cell_type": "code",
   "execution_count": 121,
   "metadata": {
    "collapsed": false
   },
   "outputs": [
    {
     "name": "stdout",
     "output_type": "stream",
     "text": [
      "95% parameter confidence intervals (m-, mest, m+)\n"
     ]
    },
    {
     "data": {
      "text/plain": [
       "(array([ -2.02465374,  89.26547595,   8.04276678]),\n",
       " array([ 16.41740833,  96.96765856,   9.40753561]),\n",
       " array([  34.8594704 ,  104.66984117,   10.77230443]))"
      ]
     },
     "execution_count": 121,
     "metadata": {},
     "output_type": "execute_result"
    }
   ],
   "source": [
    "del_ = 1.96 * np.sqrt(np.diag(covm))\n",
    "\n",
    "print('95% parameter confidence intervals (m-, mest, m+)')\n",
    "m - del_, m, m + del_"
   ]
  },
  {
   "cell_type": "markdown",
   "metadata": {},
   "source": [
    "Because there are 3 parameters to estimate, we have `N-3` degrees of freedom."
   ]
  },
  {
   "cell_type": "code",
   "execution_count": 122,
   "metadata": {
    "collapsed": false
   },
   "outputs": [
    {
     "name": "stdout",
     "output_type": "stream",
     "text": [
      "The Chi-square misfit for 7 degrees of freedom is 4.204836261879505.\n"
     ]
    }
   ],
   "source": [
    "dof = N - 3\n",
    "chi2_ = np.linalg.norm((y - G @ m) / sigma)**2\n",
    "print(\"The Chi-square misfit for {} degrees of freedom is {}.\".format(dof, chi2_))"
   ]
  },
  {
   "cell_type": "markdown",
   "metadata": {},
   "source": [
    "Find the p-value for this data set."
   ]
  },
  {
   "cell_type": "code",
   "execution_count": 123,
   "metadata": {
    "collapsed": false
   },
   "outputs": [
    {
     "name": "stdout",
     "output_type": "stream",
     "text": [
      "chi-square p-value: 0.7559051789602904\n"
     ]
    }
   ],
   "source": [
    "from scipy.stats import chi2\n",
    "\n",
    "p = 1 - chi2.cdf(chi2_, dof)\n",
    "\n",
    "print('chi-square p-value: {}'.format(p))"
   ]
  },
  {
   "cell_type": "markdown",
   "metadata": {},
   "source": [
    "Find the parameter correlations."
   ]
  },
  {
   "cell_type": "code",
   "execution_count": 157,
   "metadata": {
    "collapsed": false
   },
   "outputs": [
    {
     "name": "stdout",
     "output_type": "stream",
     "text": [
      "correlation matrix\n"
     ]
    },
    {
     "data": {
      "text/plain": [
       "array([[ 1.        , -0.90871591, -0.81403354],\n",
       "       [-0.90871591,  1.        ,  0.97455863],\n",
       "       [-0.81403354,  0.97455863,  1.        ]])"
      ]
     },
     "execution_count": 157,
     "metadata": {},
     "output_type": "execute_result"
    }
   ],
   "source": [
    "s = np.sqrt(np.diag(covm))\n",
    "r = covm / (s[:, np.newaxis] * s.T)\n",
    "print('correlation matrix')\n",
    "r"
   ]
  },
  {
   "cell_type": "markdown",
   "metadata": {},
   "source": [
    "Plot the data and model predicted data."
   ]
  },
  {
   "cell_type": "code",
   "execution_count": 175,
   "metadata": {
    "collapsed": false,
    "scrolled": true
   },
   "outputs": [
    {
     "name": "stdout",
     "output_type": "stream",
     "text": [
      "Displaying Data and Model Fit (fig 1)\n"
     ]
    },
    {
     "data": {
      "image/png": "[encoded data removed]",
      "text/plain": [
       "<matplotlib.figure.Figure at 0x1102675f8>"
      ]
     },
     "metadata": {},
     "output_type": "display_data"
    }
   ],
   "source": [
    "xx = np.arange(t.min() - 1, t.max() + 1, step=0.05)\n",
    "mm = m[0] + m[1] * xx - 0.5 * m[2] * xx**2\n",
    "\n",
    "plt.figure(1, figsize=(8,6))\n",
    "plt.clf()\n",
    "plt.plot(xx, mm, 'k')\n",
    "plt.errorbar(t, y, yerr=sigma, fmt='ko')\n",
    "plt.xlabel('Time (s)')\n",
    "plt.ylabel('Elevation (m)')\n",
    "\n",
    "print('Displaying Data and Model Fit (fig 1)')\n",
    "plt.savefig('c2fparabfig.eps')"
   ]
  },
  {
   "cell_type": "markdown",
   "metadata": {},
   "source": [
    "### Output covm and the eigenvalues/eigenvectors of covm.\n",
    "\n",
    "Covariance matrix for fitted parameters."
   ]
  },
  {
   "cell_type": "code",
   "execution_count": 177,
   "metadata": {
    "collapsed": false
   },
   "outputs": [
    {
     "data": {
      "text/plain": [
       "array([[ 88.53333333, -33.6       ,  -5.33333333],\n",
       "       [-33.6       ,  15.44242424,   2.66666667],\n",
       "       [ -5.33333333,   2.66666667,   0.48484848]])"
      ]
     },
     "execution_count": 177,
     "metadata": {},
     "output_type": "execute_result"
    }
   ],
   "source": [
    "covm"
   ]
  },
  {
   "cell_type": "markdown",
   "metadata": {},
   "source": [
    "Eigenvalues/eigenvectors of the covariance matrix  \n",
    "*Note: eigenvalues/vectors aren't necessarily in the same order as in MATLAB*"
   ]
  },
  {
   "cell_type": "code",
   "execution_count": 189,
   "metadata": {
    "collapsed": false
   },
   "outputs": [],
   "source": [
    "lam, u = np.linalg.eig(np.linalg.inv(covm))"
   ]
  },
  {
   "cell_type": "markdown",
   "metadata": {},
   "source": [
    "95% confidence ellipsoid semiaxis lengths"
   ]
  },
  {
   "cell_type": "code",
   "execution_count": null,
   "metadata": {
    "collapsed": true
   },
   "outputs": [],
   "source": [
    "semi_axes = np.sqrt(chi2.ppf(0.95, 3) * (1 / np.diag(lam)))"
   ]
  },
  {
   "cell_type": "markdown",
   "metadata": {},
   "source": [
    "95% confidence ellipsoid semiaxes"
   ]
  },
  {
   "cell_type": "code",
   "execution_count": null,
   "metadata": {
    "collapsed": true
   },
   "outputs": [],
   "source": [
    "semi_axes[0] * u[:, 0], semi_axes[1] * u[:, 1], semi_axes[2] * u[:, 2]"
   ]
  },
  {
   "cell_type": "markdown",
   "metadata": {},
   "source": [
    "## Monte Carlo Section"
   ]
  },
  {
   "cell_type": "code",
   "execution_count": null,
   "metadata": {
    "collapsed": true
   },
   "outputs": [],
   "source": [
    "y0 = G * m"
   ]
  },
  {
   "cell_type": "code",
   "execution_count": null,
   "metadata": {
    "collapsed": true
   },
   "outputs": [],
   "source": [
    "mmc = np.empty((1000, len(sigma)))\n",
    "chimc = np.empty(1000)\n",
    "\n",
    "for nreal in range(1000):\n",
    "  # Generate a trial data set of perturbed, weighted data\n",
    "  ytrial = y0 + sigma * np.random.randn(N)\n",
    "  ywtrial = ytrial / sigma\n",
    "  mmc[nreal] = np.linalg.solve(Gw, ywtrial)\n",
    "  chimc[nreal] = np.linalg.norm((np.dot(G, mmc[nreal]) - ytrial) / sigma)**2"
   ]
  },
  {
   "cell_type": "markdown",
   "metadata": {},
   "source": [
    "Plot the histogram of chi squared values\n",
    "Displaying 1000 Monte-Carlo Chi-square Values (fig 2)"
   ]
  },
  {
   "cell_type": "code",
   "execution_count": null,
   "metadata": {
    "collapsed": true
   },
   "outputs": [],
   "source": [
    "plt.figure(2)\n",
    "plt.clf()\n",
    "plt.hist(chimc, 30)\n",
    "plt.ylabel('N')\n",
    "plt.xlabel('\\chi^2')"
   ]
  },
  {
   "cell_type": "markdown",
   "metadata": {},
   "source": [
    "Plot the histograms of the model parameters\n",
    "Displaying Monte-Carlo Model Histograms (fig 3)"
   ]
  },
  {
   "cell_type": "code",
   "execution_count": null,
   "metadata": {
    "collapsed": true
   },
   "outputs": [],
   "source": [
    "plt.figure(3)\n",
    "plt.clf()\n",
    "\n",
    "plt.subplot(1,3,1)\n",
    "plt.hist(mmc[:,0])\n",
    "plt.title('m_1 (m)')\n",
    "\n",
    "plt.subplot(1,3,2)\n",
    "plt.hist(mmc[:,1])\n",
    "plt.title('m_2 (m/s)')\n",
    "\n",
    "plt.subplot(1,3,3)\n",
    "plt.hist(mmc[:,2])\n",
    "plt.title('m_3 (m/s^2)')"
   ]
  },
  {
   "cell_type": "markdown",
   "metadata": {},
   "source": [
    "Plot the realizations of each pair of model parameters with the other\n",
    "Displaying Projections of 1000 Monte-Carlo models (fig 4)"
   ]
  },
  {
   "cell_type": "code",
   "execution_count": null,
   "metadata": {
    "collapsed": true
   },
   "outputs": [],
   "source": [
    "plt.figure(4)\n",
    "plt.clf()\n",
    "\n",
    "plt.subplot(1,3,1)\n",
    "plt.plot(mmc[:,0], mmc[:,1], 'k*')\n",
    "plt.xlabel('m_1 (m)')\n",
    "plt.ylabel('m_2 (m/s)')\n",
    "\n",
    "plt.subplot(1,3,2)\n",
    "plt.plot(mmc[:,0], mmc[:,2], 'k*')\n",
    "plt.xlabel('m_1 (m)')\n",
    "plt.ylabel('m_3 (m/s^2)')\n",
    "\n",
    "plt.subplot(1,3,3)\n",
    "plt.plot(mmc[:,1], mmc[:,2], 'k*')\n",
    "plt.xlabel('m_2 (m/s)')\n",
    "plt.ylabel('m_3 (m/^2)')"
   ]
  },
  {
   "cell_type": "markdown",
   "metadata": {},
   "source": [
    "Plot the 95% error ellipses for each pair of parameters\n",
    "Note that because we're doing pairs of parameters there are 2\n",
    "degrees of freedom in the Chi-square here, rather than 3."
   ]
  },
  {
   "cell_type": "code",
   "execution_count": null,
   "metadata": {
    "collapsed": true
   },
   "outputs": [],
   "source": [
    "# generate a vector of angles from 0 to 2*pi\n",
    "theta = np.arange(0, 2*np.pi, 0.01)\n",
    "delta = np.sqrt(chi2.ppf(0.95, 2))\n",
    "\n",
    "# the radii in each direction from the center\n",
    "r = np.zeros((len(theta), 2))"
   ]
  },
  {
   "cell_type": "code",
   "execution_count": null,
   "metadata": {
    "collapsed": true
   },
   "outputs": [],
   "source": [
    "plt.figure(5)\n",
    "plt.clf()\n",
    "\n",
    "# compute the data for the m1, m2 ellipsoid.\n",
    "C = covm[0:2, 0:2]\n",
    "u, lam = np.eig(np.inv(C))\n",
    "\n",
    "# calculate the x component of the ellipsoid for all angles\n",
    "r[0] = (delta / np.sqrt(lam[0,0])) * u[0,0] * np.cos(theta)\n",
    "       + (delta / np.sqrt(lam[1,1])) * u[0,1] * np.sin(theta)\n",
    "\n",
    "# calculate the y component of the ellipsoid for all angles\n",
    "r[1] = (delta / np.sqrt(lam[0,0])) * u[1,0] * np.cos(theta)\n",
    "       + (delta / np.sqrt(lam[1,1])) * u[1,1] * np.sin(theta)\n",
    "\n",
    "# plot the data for the m1, m2 ellipsoid\n",
    "plt.subplot(1,3,1)\n",
    "plt.plot(m[1] + r[:,0], m[1] + r[:,1], 'k')\n",
    "plt.fill(m[0] + r[:,0], m[1] + r[:,1], 'k')\n",
    "plt.axis([-50 50 85 110])\n",
    "plt.xlabel('m_1 (m)')\n",
    "plt.ylabel('m_2 (m/s)')\n",
    "\n",
    "# compute the data for the m1, m3 ellipsoid.\n",
    "C = covm[[0,2],[0,2]]\n",
    "u, lam = np.eig(np.inv(C))\n",
    "deltachisq = chi2.ppf(0.95, 2)\n",
    "delta = np.sqrt(deltachisq)\n",
    "# calculate the x component of the ellipsoid for all angles\n",
    "r[:,0] = (delta / np.sqrt(lam[0,0])) * u[0,0] * np.cos(theta)\n",
    "         + (delta / np.sqrt(lam[1,1])) * u[0,1] * np.sin(theta)\n",
    "# calculate the y component of the ellipsoid for all angles\n",
    "r[:,1] = (delta / np.sqrt(lam[0,0])) * u[1,0] * np.cos(theta)\n",
    "         + (delta / np.sqrt(lam[1,1])) * u[1,1] * np.sin(theta)\n",
    "\n",
    "# plot the data for the m1, m3 ellipsoid\n",
    "plt.subplot(1,3,2)\n",
    "plt.plot(m[0] + r[:,0], m[2] + r[:,1], 'k')\n",
    "plt.fill(m[0] + r[:,0], m[2] + r[:,1], 'k')\n",
    "plt.axis([-50 50 7 12])\n",
    "plt.xlabel('m_1 (m)')\n",
    "plt.ylabel('m_3 (m/s^2)')\n",
    "\n",
    "# compute the data for the m2, m3 ellipsoid.\n",
    "C = covm[[1,2], [1,2]]\n",
    "u, lam = np.eig(np.inv(C))\n",
    "deltachisq = chi2.ppf(0.95, 2)\n",
    "delta = np.sqrt(deltachisq)\n",
    "# calculate the x component of the ellipsoid for all angles\n",
    "r[:,0] = (delta / np.sqrt(lam[0,0])) * u[0,0] * np.cos(theta)\n",
    "         + (delta / np.sqrt(lam[1,1])) * u[0,1] * np.sin(theta)\n",
    "# calculate the y component of the ellipsoid for all angles\n",
    "r[:,1] = (delta / np.sqrt(lam[0,0])) * u[1,0] * np.cos(theta)\n",
    "         + (delta / np.sqrt(lam[1,1])) * u[1,1] * np.sin(theta)\n",
    "\n",
    "# plot the data for the m2, m3 ellipsoid\n",
    "plt.subplot(1,3,3)\n",
    "plt.plot(m[1] + r[:,0], m[2] + r[:,1], 'k')\n",
    "plt.fill(m[1] + r[:,0], m[2] + r[:,1], 'k')\n",
    "plt.axis([80 120 7 12])\n",
    "plt.xlabel('m_2 (m/s)')\n",
    "plt.ylabel('m_3 (m/s^2)')\n",
    "plt.savefig('c2fellipseproj.eps')\n",
    "\n",
    "print('Displaying 95% Confidence Ellipse Projections (fig 5)')"
   ]
  }
 ],
 "metadata": {
  "anaconda-cloud": {},
  "kernelspec": {
   "display_name": "Python [conda env:py35]",
   "language": "python",
   "name": "conda-env-py35-py"
  },
  "language_info": {
   "codemirror_mode": {
    "name": "ipython",
    "version": 3
   },
   "file_extension": ".py",
   "mimetype": "text/x-python",
   "name": "python",
   "nbconvert_exporter": "python",
   "pygments_lexer": "ipython3",
   "version": "3.5.2"
  }
 },
 "nbformat": 4,
 "nbformat_minor": 1
}
